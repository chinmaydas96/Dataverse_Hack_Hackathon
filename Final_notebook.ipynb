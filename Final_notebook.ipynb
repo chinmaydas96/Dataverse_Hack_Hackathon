{
 "cells": [
  {
   "cell_type": "markdown",
   "id": "1c76edd6",
   "metadata": {},
   "source": [
    "# Import dataset"
   ]
  },
  {
   "cell_type": "code",
   "execution_count": 37,
   "id": "0d84be1c",
   "metadata": {
    "ExecuteTime": {
     "end_time": "2022-11-14T06:11:47.835483Z",
     "start_time": "2022-11-14T06:11:45.827483Z"
    }
   },
   "outputs": [],
   "source": [
    "import pandas as pd\n",
    "from catboost import CatBoostClassifier\n",
    "import numpy as np\n",
    "import matplotlib.pyplot as plt\n",
    "from sklearn.model_selection import train_test_split"
   ]
  },
  {
   "cell_type": "code",
   "execution_count": 30,
   "id": "c92dd716",
   "metadata": {
    "ExecuteTime": {
     "end_time": "2022-11-14T06:10:41.223280Z",
     "start_time": "2022-11-14T06:10:41.210295Z"
    }
   },
   "outputs": [],
   "source": [
    "pd.set_option('display.max_rows', 100)\n",
    "pd.set_option('display.max_columns', 100)"
   ]
  },
  {
   "cell_type": "code",
   "execution_count": 31,
   "id": "7d1f7907",
   "metadata": {
    "ExecuteTime": {
     "end_time": "2022-11-14T06:10:42.048752Z",
     "start_time": "2022-11-14T06:10:41.431561Z"
    }
   },
   "outputs": [
    {
     "data": {
      "text/html": [
       "<div>\n",
       "<style scoped>\n",
       "    .dataframe tbody tr th:only-of-type {\n",
       "        vertical-align: middle;\n",
       "    }\n",
       "\n",
       "    .dataframe tbody tr th {\n",
       "        vertical-align: top;\n",
       "    }\n",
       "\n",
       "    .dataframe thead th {\n",
       "        text-align: right;\n",
       "    }\n",
       "</style>\n",
       "<table border=\"1\" class=\"dataframe\">\n",
       "  <thead>\n",
       "    <tr style=\"text-align: right;\">\n",
       "      <th></th>\n",
       "      <th>policy_id</th>\n",
       "      <th>policy_tenure</th>\n",
       "      <th>age_of_car</th>\n",
       "      <th>age_of_policyholder</th>\n",
       "      <th>area_cluster</th>\n",
       "      <th>population_density</th>\n",
       "      <th>make</th>\n",
       "      <th>segment</th>\n",
       "      <th>model</th>\n",
       "      <th>fuel_type</th>\n",
       "      <th>max_torque</th>\n",
       "      <th>max_power</th>\n",
       "      <th>engine_type</th>\n",
       "      <th>airbags</th>\n",
       "      <th>is_esc</th>\n",
       "      <th>is_adjustable_steering</th>\n",
       "      <th>is_tpms</th>\n",
       "      <th>is_parking_sensors</th>\n",
       "      <th>is_parking_camera</th>\n",
       "      <th>rear_brakes_type</th>\n",
       "      <th>displacement</th>\n",
       "      <th>cylinder</th>\n",
       "      <th>transmission_type</th>\n",
       "      <th>gear_box</th>\n",
       "      <th>steering_type</th>\n",
       "      <th>turning_radius</th>\n",
       "      <th>length</th>\n",
       "      <th>width</th>\n",
       "      <th>height</th>\n",
       "      <th>gross_weight</th>\n",
       "      <th>is_front_fog_lights</th>\n",
       "      <th>is_rear_window_wiper</th>\n",
       "      <th>is_rear_window_washer</th>\n",
       "      <th>is_rear_window_defogger</th>\n",
       "      <th>is_brake_assist</th>\n",
       "      <th>is_power_door_locks</th>\n",
       "      <th>is_central_locking</th>\n",
       "      <th>is_power_steering</th>\n",
       "      <th>is_driver_seat_height_adjustable</th>\n",
       "      <th>is_day_night_rear_view_mirror</th>\n",
       "      <th>is_ecw</th>\n",
       "      <th>is_speed_alert</th>\n",
       "      <th>ncap_rating</th>\n",
       "      <th>is_claim</th>\n",
       "    </tr>\n",
       "  </thead>\n",
       "  <tbody>\n",
       "    <tr>\n",
       "      <th>0</th>\n",
       "      <td>ID00001</td>\n",
       "      <td>0.515874</td>\n",
       "      <td>0.05</td>\n",
       "      <td>0.644231</td>\n",
       "      <td>C1</td>\n",
       "      <td>4990</td>\n",
       "      <td>1</td>\n",
       "      <td>A</td>\n",
       "      <td>M1</td>\n",
       "      <td>CNG</td>\n",
       "      <td>60Nm@3500rpm</td>\n",
       "      <td>40.36bhp@6000rpm</td>\n",
       "      <td>F8D Petrol Engine</td>\n",
       "      <td>2</td>\n",
       "      <td>No</td>\n",
       "      <td>No</td>\n",
       "      <td>No</td>\n",
       "      <td>Yes</td>\n",
       "      <td>No</td>\n",
       "      <td>Drum</td>\n",
       "      <td>796</td>\n",
       "      <td>3</td>\n",
       "      <td>Manual</td>\n",
       "      <td>5</td>\n",
       "      <td>Power</td>\n",
       "      <td>4.6</td>\n",
       "      <td>3445</td>\n",
       "      <td>1515</td>\n",
       "      <td>1475</td>\n",
       "      <td>1185</td>\n",
       "      <td>No</td>\n",
       "      <td>No</td>\n",
       "      <td>No</td>\n",
       "      <td>No</td>\n",
       "      <td>No</td>\n",
       "      <td>No</td>\n",
       "      <td>No</td>\n",
       "      <td>Yes</td>\n",
       "      <td>No</td>\n",
       "      <td>No</td>\n",
       "      <td>No</td>\n",
       "      <td>Yes</td>\n",
       "      <td>0</td>\n",
       "      <td>0</td>\n",
       "    </tr>\n",
       "    <tr>\n",
       "      <th>1</th>\n",
       "      <td>ID00002</td>\n",
       "      <td>0.672619</td>\n",
       "      <td>0.02</td>\n",
       "      <td>0.375000</td>\n",
       "      <td>C2</td>\n",
       "      <td>27003</td>\n",
       "      <td>1</td>\n",
       "      <td>A</td>\n",
       "      <td>M1</td>\n",
       "      <td>CNG</td>\n",
       "      <td>60Nm@3500rpm</td>\n",
       "      <td>40.36bhp@6000rpm</td>\n",
       "      <td>F8D Petrol Engine</td>\n",
       "      <td>2</td>\n",
       "      <td>No</td>\n",
       "      <td>No</td>\n",
       "      <td>No</td>\n",
       "      <td>Yes</td>\n",
       "      <td>No</td>\n",
       "      <td>Drum</td>\n",
       "      <td>796</td>\n",
       "      <td>3</td>\n",
       "      <td>Manual</td>\n",
       "      <td>5</td>\n",
       "      <td>Power</td>\n",
       "      <td>4.6</td>\n",
       "      <td>3445</td>\n",
       "      <td>1515</td>\n",
       "      <td>1475</td>\n",
       "      <td>1185</td>\n",
       "      <td>No</td>\n",
       "      <td>No</td>\n",
       "      <td>No</td>\n",
       "      <td>No</td>\n",
       "      <td>No</td>\n",
       "      <td>No</td>\n",
       "      <td>No</td>\n",
       "      <td>Yes</td>\n",
       "      <td>No</td>\n",
       "      <td>No</td>\n",
       "      <td>No</td>\n",
       "      <td>Yes</td>\n",
       "      <td>0</td>\n",
       "      <td>0</td>\n",
       "    </tr>\n",
       "  </tbody>\n",
       "</table>\n",
       "</div>"
      ],
      "text/plain": [
       "  policy_id  policy_tenure  age_of_car  age_of_policyholder area_cluster  \\\n",
       "0   ID00001       0.515874        0.05             0.644231           C1   \n",
       "1   ID00002       0.672619        0.02             0.375000           C2   \n",
       "\n",
       "   population_density  make segment model fuel_type    max_torque  \\\n",
       "0                4990     1       A    M1       CNG  60Nm@3500rpm   \n",
       "1               27003     1       A    M1       CNG  60Nm@3500rpm   \n",
       "\n",
       "          max_power        engine_type  airbags is_esc is_adjustable_steering  \\\n",
       "0  40.36bhp@6000rpm  F8D Petrol Engine        2     No                     No   \n",
       "1  40.36bhp@6000rpm  F8D Petrol Engine        2     No                     No   \n",
       "\n",
       "  is_tpms is_parking_sensors is_parking_camera rear_brakes_type  displacement  \\\n",
       "0      No                Yes                No             Drum           796   \n",
       "1      No                Yes                No             Drum           796   \n",
       "\n",
       "   cylinder transmission_type  gear_box steering_type  turning_radius  length  \\\n",
       "0         3            Manual         5         Power             4.6    3445   \n",
       "1         3            Manual         5         Power             4.6    3445   \n",
       "\n",
       "   width  height  gross_weight is_front_fog_lights is_rear_window_wiper  \\\n",
       "0   1515    1475          1185                  No                   No   \n",
       "1   1515    1475          1185                  No                   No   \n",
       "\n",
       "  is_rear_window_washer is_rear_window_defogger is_brake_assist  \\\n",
       "0                    No                      No              No   \n",
       "1                    No                      No              No   \n",
       "\n",
       "  is_power_door_locks is_central_locking is_power_steering  \\\n",
       "0                  No                 No               Yes   \n",
       "1                  No                 No               Yes   \n",
       "\n",
       "  is_driver_seat_height_adjustable is_day_night_rear_view_mirror is_ecw  \\\n",
       "0                               No                            No     No   \n",
       "1                               No                            No     No   \n",
       "\n",
       "  is_speed_alert  ncap_rating  is_claim  \n",
       "0            Yes            0         0  \n",
       "1            Yes            0         0  "
      ]
     },
     "execution_count": 31,
     "metadata": {},
     "output_type": "execute_result"
    }
   ],
   "source": [
    "df_train = pd.read_csv('train_qWM28Yl.csv')\n",
    "df_train.head(2)"
   ]
  },
  {
   "cell_type": "code",
   "execution_count": 45,
   "id": "4b25baba",
   "metadata": {
    "ExecuteTime": {
     "end_time": "2022-11-14T06:44:25.383289Z",
     "start_time": "2022-11-14T06:44:25.069070Z"
    }
   },
   "outputs": [
    {
     "name": "stdout",
     "output_type": "stream",
     "text": [
      "<class 'pandas.core.frame.DataFrame'>\n",
      "RangeIndex: 58592 entries, 0 to 58591\n",
      "Data columns (total 44 columns):\n",
      " #   Column                            Non-Null Count  Dtype  \n",
      "---  ------                            --------------  -----  \n",
      " 0   policy_id                         58592 non-null  object \n",
      " 1   policy_tenure                     58592 non-null  float64\n",
      " 2   age_of_car                        58592 non-null  float64\n",
      " 3   age_of_policyholder               58592 non-null  float64\n",
      " 4   area_cluster                      58592 non-null  object \n",
      " 5   population_density                58592 non-null  int64  \n",
      " 6   make                              58592 non-null  int64  \n",
      " 7   segment                           58592 non-null  object \n",
      " 8   model                             58592 non-null  object \n",
      " 9   fuel_type                         58592 non-null  object \n",
      " 10  max_torque                        58592 non-null  object \n",
      " 11  max_power                         58592 non-null  object \n",
      " 12  engine_type                       58592 non-null  object \n",
      " 13  airbags                           58592 non-null  int64  \n",
      " 14  is_esc                            58592 non-null  object \n",
      " 15  is_adjustable_steering            58592 non-null  object \n",
      " 16  is_tpms                           58592 non-null  object \n",
      " 17  is_parking_sensors                58592 non-null  object \n",
      " 18  is_parking_camera                 58592 non-null  object \n",
      " 19  rear_brakes_type                  58592 non-null  object \n",
      " 20  displacement                      58592 non-null  int64  \n",
      " 21  cylinder                          58592 non-null  int64  \n",
      " 22  transmission_type                 58592 non-null  object \n",
      " 23  gear_box                          58592 non-null  int64  \n",
      " 24  steering_type                     58592 non-null  object \n",
      " 25  turning_radius                    58592 non-null  float64\n",
      " 26  length                            58592 non-null  int64  \n",
      " 27  width                             58592 non-null  int64  \n",
      " 28  height                            58592 non-null  int64  \n",
      " 29  gross_weight                      58592 non-null  int64  \n",
      " 30  is_front_fog_lights               58592 non-null  object \n",
      " 31  is_rear_window_wiper              58592 non-null  object \n",
      " 32  is_rear_window_washer             58592 non-null  object \n",
      " 33  is_rear_window_defogger           58592 non-null  object \n",
      " 34  is_brake_assist                   58592 non-null  object \n",
      " 35  is_power_door_locks               58592 non-null  object \n",
      " 36  is_central_locking                58592 non-null  object \n",
      " 37  is_power_steering                 58592 non-null  object \n",
      " 38  is_driver_seat_height_adjustable  58592 non-null  object \n",
      " 39  is_day_night_rear_view_mirror     58592 non-null  object \n",
      " 40  is_ecw                            58592 non-null  object \n",
      " 41  is_speed_alert                    58592 non-null  object \n",
      " 42  ncap_rating                       58592 non-null  int64  \n",
      " 43  is_claim                          58592 non-null  int64  \n",
      "dtypes: float64(4), int64(12), object(28)\n",
      "memory usage: 19.7+ MB\n"
     ]
    }
   ],
   "source": [
    "df_train.info()"
   ]
  },
  {
   "cell_type": "code",
   "execution_count": 46,
   "id": "612050e2",
   "metadata": {
    "ExecuteTime": {
     "end_time": "2022-11-14T06:44:37.699665Z",
     "start_time": "2022-11-14T06:44:37.570766Z"
    }
   },
   "outputs": [
    {
     "data": {
      "text/html": [
       "<div>\n",
       "<style scoped>\n",
       "    .dataframe tbody tr th:only-of-type {\n",
       "        vertical-align: middle;\n",
       "    }\n",
       "\n",
       "    .dataframe tbody tr th {\n",
       "        vertical-align: top;\n",
       "    }\n",
       "\n",
       "    .dataframe thead th {\n",
       "        text-align: right;\n",
       "    }\n",
       "</style>\n",
       "<table border=\"1\" class=\"dataframe\">\n",
       "  <thead>\n",
       "    <tr style=\"text-align: right;\">\n",
       "      <th></th>\n",
       "      <th>policy_tenure</th>\n",
       "      <th>age_of_car</th>\n",
       "      <th>age_of_policyholder</th>\n",
       "      <th>population_density</th>\n",
       "      <th>make</th>\n",
       "      <th>airbags</th>\n",
       "      <th>displacement</th>\n",
       "      <th>cylinder</th>\n",
       "      <th>gear_box</th>\n",
       "      <th>turning_radius</th>\n",
       "      <th>length</th>\n",
       "      <th>width</th>\n",
       "      <th>height</th>\n",
       "      <th>gross_weight</th>\n",
       "      <th>ncap_rating</th>\n",
       "      <th>is_claim</th>\n",
       "    </tr>\n",
       "  </thead>\n",
       "  <tbody>\n",
       "    <tr>\n",
       "      <th>count</th>\n",
       "      <td>58592.000000</td>\n",
       "      <td>58592.000000</td>\n",
       "      <td>58592.000000</td>\n",
       "      <td>58592.000000</td>\n",
       "      <td>58592.000000</td>\n",
       "      <td>58592.000000</td>\n",
       "      <td>58592.000000</td>\n",
       "      <td>58592.000000</td>\n",
       "      <td>58592.000000</td>\n",
       "      <td>58592.000000</td>\n",
       "      <td>58592.000000</td>\n",
       "      <td>58592.000000</td>\n",
       "      <td>58592.00000</td>\n",
       "      <td>58592.000000</td>\n",
       "      <td>58592.000000</td>\n",
       "      <td>58592.000000</td>\n",
       "    </tr>\n",
       "    <tr>\n",
       "      <th>mean</th>\n",
       "      <td>0.611246</td>\n",
       "      <td>0.069424</td>\n",
       "      <td>0.469420</td>\n",
       "      <td>18826.858667</td>\n",
       "      <td>1.763722</td>\n",
       "      <td>3.137066</td>\n",
       "      <td>1162.355851</td>\n",
       "      <td>3.626963</td>\n",
       "      <td>5.245443</td>\n",
       "      <td>4.852893</td>\n",
       "      <td>3850.476891</td>\n",
       "      <td>1672.233667</td>\n",
       "      <td>1553.33537</td>\n",
       "      <td>1385.276813</td>\n",
       "      <td>1.759950</td>\n",
       "      <td>0.063968</td>\n",
       "    </tr>\n",
       "    <tr>\n",
       "      <th>std</th>\n",
       "      <td>0.414156</td>\n",
       "      <td>0.056721</td>\n",
       "      <td>0.122886</td>\n",
       "      <td>17660.174792</td>\n",
       "      <td>1.136988</td>\n",
       "      <td>1.832641</td>\n",
       "      <td>266.304786</td>\n",
       "      <td>0.483616</td>\n",
       "      <td>0.430353</td>\n",
       "      <td>0.228061</td>\n",
       "      <td>311.457119</td>\n",
       "      <td>112.089135</td>\n",
       "      <td>79.62227</td>\n",
       "      <td>212.423085</td>\n",
       "      <td>1.389576</td>\n",
       "      <td>0.244698</td>\n",
       "    </tr>\n",
       "    <tr>\n",
       "      <th>min</th>\n",
       "      <td>0.002735</td>\n",
       "      <td>0.000000</td>\n",
       "      <td>0.288462</td>\n",
       "      <td>290.000000</td>\n",
       "      <td>1.000000</td>\n",
       "      <td>1.000000</td>\n",
       "      <td>796.000000</td>\n",
       "      <td>3.000000</td>\n",
       "      <td>5.000000</td>\n",
       "      <td>4.500000</td>\n",
       "      <td>3445.000000</td>\n",
       "      <td>1475.000000</td>\n",
       "      <td>1475.00000</td>\n",
       "      <td>1051.000000</td>\n",
       "      <td>0.000000</td>\n",
       "      <td>0.000000</td>\n",
       "    </tr>\n",
       "    <tr>\n",
       "      <th>25%</th>\n",
       "      <td>0.210250</td>\n",
       "      <td>0.020000</td>\n",
       "      <td>0.365385</td>\n",
       "      <td>6112.000000</td>\n",
       "      <td>1.000000</td>\n",
       "      <td>2.000000</td>\n",
       "      <td>796.000000</td>\n",
       "      <td>3.000000</td>\n",
       "      <td>5.000000</td>\n",
       "      <td>4.600000</td>\n",
       "      <td>3445.000000</td>\n",
       "      <td>1515.000000</td>\n",
       "      <td>1475.00000</td>\n",
       "      <td>1185.000000</td>\n",
       "      <td>0.000000</td>\n",
       "      <td>0.000000</td>\n",
       "    </tr>\n",
       "    <tr>\n",
       "      <th>50%</th>\n",
       "      <td>0.573792</td>\n",
       "      <td>0.060000</td>\n",
       "      <td>0.451923</td>\n",
       "      <td>8794.000000</td>\n",
       "      <td>1.000000</td>\n",
       "      <td>2.000000</td>\n",
       "      <td>1197.000000</td>\n",
       "      <td>4.000000</td>\n",
       "      <td>5.000000</td>\n",
       "      <td>4.800000</td>\n",
       "      <td>3845.000000</td>\n",
       "      <td>1735.000000</td>\n",
       "      <td>1530.00000</td>\n",
       "      <td>1335.000000</td>\n",
       "      <td>2.000000</td>\n",
       "      <td>0.000000</td>\n",
       "    </tr>\n",
       "    <tr>\n",
       "      <th>75%</th>\n",
       "      <td>1.039104</td>\n",
       "      <td>0.110000</td>\n",
       "      <td>0.548077</td>\n",
       "      <td>27003.000000</td>\n",
       "      <td>3.000000</td>\n",
       "      <td>6.000000</td>\n",
       "      <td>1493.000000</td>\n",
       "      <td>4.000000</td>\n",
       "      <td>5.000000</td>\n",
       "      <td>5.000000</td>\n",
       "      <td>3995.000000</td>\n",
       "      <td>1755.000000</td>\n",
       "      <td>1635.00000</td>\n",
       "      <td>1510.000000</td>\n",
       "      <td>3.000000</td>\n",
       "      <td>0.000000</td>\n",
       "    </tr>\n",
       "    <tr>\n",
       "      <th>max</th>\n",
       "      <td>1.396641</td>\n",
       "      <td>1.000000</td>\n",
       "      <td>1.000000</td>\n",
       "      <td>73430.000000</td>\n",
       "      <td>5.000000</td>\n",
       "      <td>6.000000</td>\n",
       "      <td>1498.000000</td>\n",
       "      <td>4.000000</td>\n",
       "      <td>6.000000</td>\n",
       "      <td>5.200000</td>\n",
       "      <td>4300.000000</td>\n",
       "      <td>1811.000000</td>\n",
       "      <td>1825.00000</td>\n",
       "      <td>1720.000000</td>\n",
       "      <td>5.000000</td>\n",
       "      <td>1.000000</td>\n",
       "    </tr>\n",
       "  </tbody>\n",
       "</table>\n",
       "</div>"
      ],
      "text/plain": [
       "       policy_tenure    age_of_car  age_of_policyholder  population_density  \\\n",
       "count   58592.000000  58592.000000         58592.000000        58592.000000   \n",
       "mean        0.611246      0.069424             0.469420        18826.858667   \n",
       "std         0.414156      0.056721             0.122886        17660.174792   \n",
       "min         0.002735      0.000000             0.288462          290.000000   \n",
       "25%         0.210250      0.020000             0.365385         6112.000000   \n",
       "50%         0.573792      0.060000             0.451923         8794.000000   \n",
       "75%         1.039104      0.110000             0.548077        27003.000000   \n",
       "max         1.396641      1.000000             1.000000        73430.000000   \n",
       "\n",
       "               make       airbags  displacement      cylinder      gear_box  \\\n",
       "count  58592.000000  58592.000000  58592.000000  58592.000000  58592.000000   \n",
       "mean       1.763722      3.137066   1162.355851      3.626963      5.245443   \n",
       "std        1.136988      1.832641    266.304786      0.483616      0.430353   \n",
       "min        1.000000      1.000000    796.000000      3.000000      5.000000   \n",
       "25%        1.000000      2.000000    796.000000      3.000000      5.000000   \n",
       "50%        1.000000      2.000000   1197.000000      4.000000      5.000000   \n",
       "75%        3.000000      6.000000   1493.000000      4.000000      5.000000   \n",
       "max        5.000000      6.000000   1498.000000      4.000000      6.000000   \n",
       "\n",
       "       turning_radius        length         width       height  gross_weight  \\\n",
       "count    58592.000000  58592.000000  58592.000000  58592.00000  58592.000000   \n",
       "mean         4.852893   3850.476891   1672.233667   1553.33537   1385.276813   \n",
       "std          0.228061    311.457119    112.089135     79.62227    212.423085   \n",
       "min          4.500000   3445.000000   1475.000000   1475.00000   1051.000000   \n",
       "25%          4.600000   3445.000000   1515.000000   1475.00000   1185.000000   \n",
       "50%          4.800000   3845.000000   1735.000000   1530.00000   1335.000000   \n",
       "75%          5.000000   3995.000000   1755.000000   1635.00000   1510.000000   \n",
       "max          5.200000   4300.000000   1811.000000   1825.00000   1720.000000   \n",
       "\n",
       "        ncap_rating      is_claim  \n",
       "count  58592.000000  58592.000000  \n",
       "mean       1.759950      0.063968  \n",
       "std        1.389576      0.244698  \n",
       "min        0.000000      0.000000  \n",
       "25%        0.000000      0.000000  \n",
       "50%        2.000000      0.000000  \n",
       "75%        3.000000      0.000000  \n",
       "max        5.000000      1.000000  "
      ]
     },
     "execution_count": 46,
     "metadata": {},
     "output_type": "execute_result"
    }
   ],
   "source": [
    "df_train.describe()"
   ]
  },
  {
   "cell_type": "code",
   "execution_count": 47,
   "id": "e9bf6c8f",
   "metadata": {
    "ExecuteTime": {
     "end_time": "2022-11-14T06:44:49.706434Z",
     "start_time": "2022-11-14T06:44:49.419889Z"
    }
   },
   "outputs": [
    {
     "data": {
      "text/html": [
       "<div>\n",
       "<style scoped>\n",
       "    .dataframe tbody tr th:only-of-type {\n",
       "        vertical-align: middle;\n",
       "    }\n",
       "\n",
       "    .dataframe tbody tr th {\n",
       "        vertical-align: top;\n",
       "    }\n",
       "\n",
       "    .dataframe thead th {\n",
       "        text-align: right;\n",
       "    }\n",
       "</style>\n",
       "<table border=\"1\" class=\"dataframe\">\n",
       "  <thead>\n",
       "    <tr style=\"text-align: right;\">\n",
       "      <th></th>\n",
       "      <th>policy_id</th>\n",
       "      <th>area_cluster</th>\n",
       "      <th>segment</th>\n",
       "      <th>model</th>\n",
       "      <th>fuel_type</th>\n",
       "      <th>max_torque</th>\n",
       "      <th>max_power</th>\n",
       "      <th>engine_type</th>\n",
       "      <th>is_esc</th>\n",
       "      <th>is_adjustable_steering</th>\n",
       "      <th>is_tpms</th>\n",
       "      <th>is_parking_sensors</th>\n",
       "      <th>is_parking_camera</th>\n",
       "      <th>rear_brakes_type</th>\n",
       "      <th>transmission_type</th>\n",
       "      <th>steering_type</th>\n",
       "      <th>is_front_fog_lights</th>\n",
       "      <th>is_rear_window_wiper</th>\n",
       "      <th>is_rear_window_washer</th>\n",
       "      <th>is_rear_window_defogger</th>\n",
       "      <th>is_brake_assist</th>\n",
       "      <th>is_power_door_locks</th>\n",
       "      <th>is_central_locking</th>\n",
       "      <th>is_power_steering</th>\n",
       "      <th>is_driver_seat_height_adjustable</th>\n",
       "      <th>is_day_night_rear_view_mirror</th>\n",
       "      <th>is_ecw</th>\n",
       "      <th>is_speed_alert</th>\n",
       "    </tr>\n",
       "  </thead>\n",
       "  <tbody>\n",
       "    <tr>\n",
       "      <th>count</th>\n",
       "      <td>58592</td>\n",
       "      <td>58592</td>\n",
       "      <td>58592</td>\n",
       "      <td>58592</td>\n",
       "      <td>58592</td>\n",
       "      <td>58592</td>\n",
       "      <td>58592</td>\n",
       "      <td>58592</td>\n",
       "      <td>58592</td>\n",
       "      <td>58592</td>\n",
       "      <td>58592</td>\n",
       "      <td>58592</td>\n",
       "      <td>58592</td>\n",
       "      <td>58592</td>\n",
       "      <td>58592</td>\n",
       "      <td>58592</td>\n",
       "      <td>58592</td>\n",
       "      <td>58592</td>\n",
       "      <td>58592</td>\n",
       "      <td>58592</td>\n",
       "      <td>58592</td>\n",
       "      <td>58592</td>\n",
       "      <td>58592</td>\n",
       "      <td>58592</td>\n",
       "      <td>58592</td>\n",
       "      <td>58592</td>\n",
       "      <td>58592</td>\n",
       "      <td>58592</td>\n",
       "    </tr>\n",
       "    <tr>\n",
       "      <th>unique</th>\n",
       "      <td>58592</td>\n",
       "      <td>22</td>\n",
       "      <td>6</td>\n",
       "      <td>11</td>\n",
       "      <td>3</td>\n",
       "      <td>9</td>\n",
       "      <td>9</td>\n",
       "      <td>11</td>\n",
       "      <td>2</td>\n",
       "      <td>2</td>\n",
       "      <td>2</td>\n",
       "      <td>2</td>\n",
       "      <td>2</td>\n",
       "      <td>2</td>\n",
       "      <td>2</td>\n",
       "      <td>3</td>\n",
       "      <td>2</td>\n",
       "      <td>2</td>\n",
       "      <td>2</td>\n",
       "      <td>2</td>\n",
       "      <td>2</td>\n",
       "      <td>2</td>\n",
       "      <td>2</td>\n",
       "      <td>2</td>\n",
       "      <td>2</td>\n",
       "      <td>2</td>\n",
       "      <td>2</td>\n",
       "      <td>2</td>\n",
       "    </tr>\n",
       "    <tr>\n",
       "      <th>top</th>\n",
       "      <td>ID00001</td>\n",
       "      <td>C8</td>\n",
       "      <td>B2</td>\n",
       "      <td>M1</td>\n",
       "      <td>Petrol</td>\n",
       "      <td>113Nm@4400rpm</td>\n",
       "      <td>88.50bhp@6000rpm</td>\n",
       "      <td>F8D Petrol Engine</td>\n",
       "      <td>No</td>\n",
       "      <td>Yes</td>\n",
       "      <td>No</td>\n",
       "      <td>Yes</td>\n",
       "      <td>No</td>\n",
       "      <td>Drum</td>\n",
       "      <td>Manual</td>\n",
       "      <td>Power</td>\n",
       "      <td>Yes</td>\n",
       "      <td>No</td>\n",
       "      <td>No</td>\n",
       "      <td>No</td>\n",
       "      <td>Yes</td>\n",
       "      <td>Yes</td>\n",
       "      <td>Yes</td>\n",
       "      <td>Yes</td>\n",
       "      <td>Yes</td>\n",
       "      <td>No</td>\n",
       "      <td>Yes</td>\n",
       "      <td>Yes</td>\n",
       "    </tr>\n",
       "    <tr>\n",
       "      <th>freq</th>\n",
       "      <td>1</td>\n",
       "      <td>13654</td>\n",
       "      <td>18314</td>\n",
       "      <td>14948</td>\n",
       "      <td>20532</td>\n",
       "      <td>17796</td>\n",
       "      <td>17796</td>\n",
       "      <td>14948</td>\n",
       "      <td>40191</td>\n",
       "      <td>35526</td>\n",
       "      <td>44574</td>\n",
       "      <td>56219</td>\n",
       "      <td>35704</td>\n",
       "      <td>44574</td>\n",
       "      <td>38181</td>\n",
       "      <td>33502</td>\n",
       "      <td>33928</td>\n",
       "      <td>41634</td>\n",
       "      <td>41634</td>\n",
       "      <td>38077</td>\n",
       "      <td>32177</td>\n",
       "      <td>42435</td>\n",
       "      <td>42435</td>\n",
       "      <td>57383</td>\n",
       "      <td>34291</td>\n",
       "      <td>36309</td>\n",
       "      <td>42435</td>\n",
       "      <td>58229</td>\n",
       "    </tr>\n",
       "  </tbody>\n",
       "</table>\n",
       "</div>"
      ],
      "text/plain": [
       "       policy_id area_cluster segment  model fuel_type     max_torque  \\\n",
       "count      58592        58592   58592  58592     58592          58592   \n",
       "unique     58592           22       6     11         3              9   \n",
       "top      ID00001           C8      B2     M1    Petrol  113Nm@4400rpm   \n",
       "freq           1        13654   18314  14948     20532          17796   \n",
       "\n",
       "               max_power        engine_type is_esc is_adjustable_steering  \\\n",
       "count              58592              58592  58592                  58592   \n",
       "unique                 9                 11      2                      2   \n",
       "top     88.50bhp@6000rpm  F8D Petrol Engine     No                    Yes   \n",
       "freq               17796              14948  40191                  35526   \n",
       "\n",
       "       is_tpms is_parking_sensors is_parking_camera rear_brakes_type  \\\n",
       "count    58592              58592             58592            58592   \n",
       "unique       2                  2                 2                2   \n",
       "top         No                Yes                No             Drum   \n",
       "freq     44574              56219             35704            44574   \n",
       "\n",
       "       transmission_type steering_type is_front_fog_lights  \\\n",
       "count              58592         58592               58592   \n",
       "unique                 2             3                   2   \n",
       "top               Manual         Power                 Yes   \n",
       "freq               38181         33502               33928   \n",
       "\n",
       "       is_rear_window_wiper is_rear_window_washer is_rear_window_defogger  \\\n",
       "count                 58592                 58592                   58592   \n",
       "unique                    2                     2                       2   \n",
       "top                      No                    No                      No   \n",
       "freq                  41634                 41634                   38077   \n",
       "\n",
       "       is_brake_assist is_power_door_locks is_central_locking  \\\n",
       "count            58592               58592              58592   \n",
       "unique               2                   2                  2   \n",
       "top                Yes                 Yes                Yes   \n",
       "freq             32177               42435              42435   \n",
       "\n",
       "       is_power_steering is_driver_seat_height_adjustable  \\\n",
       "count              58592                            58592   \n",
       "unique                 2                                2   \n",
       "top                  Yes                              Yes   \n",
       "freq               57383                            34291   \n",
       "\n",
       "       is_day_night_rear_view_mirror is_ecw is_speed_alert  \n",
       "count                          58592  58592          58592  \n",
       "unique                             2      2              2  \n",
       "top                               No    Yes            Yes  \n",
       "freq                           36309  42435          58229  "
      ]
     },
     "execution_count": 47,
     "metadata": {},
     "output_type": "execute_result"
    }
   ],
   "source": [
    "df_train.describe(include=['O'])"
   ]
  },
  {
   "cell_type": "code",
   "execution_count": 32,
   "id": "73860000",
   "metadata": {
    "ExecuteTime": {
     "end_time": "2022-11-14T06:10:42.467352Z",
     "start_time": "2022-11-14T06:10:42.054075Z"
    }
   },
   "outputs": [
    {
     "data": {
      "text/html": [
       "<div>\n",
       "<style scoped>\n",
       "    .dataframe tbody tr th:only-of-type {\n",
       "        vertical-align: middle;\n",
       "    }\n",
       "\n",
       "    .dataframe tbody tr th {\n",
       "        vertical-align: top;\n",
       "    }\n",
       "\n",
       "    .dataframe thead th {\n",
       "        text-align: right;\n",
       "    }\n",
       "</style>\n",
       "<table border=\"1\" class=\"dataframe\">\n",
       "  <thead>\n",
       "    <tr style=\"text-align: right;\">\n",
       "      <th></th>\n",
       "      <th>policy_id</th>\n",
       "      <th>policy_tenure</th>\n",
       "      <th>age_of_car</th>\n",
       "      <th>age_of_policyholder</th>\n",
       "      <th>area_cluster</th>\n",
       "      <th>population_density</th>\n",
       "      <th>make</th>\n",
       "      <th>segment</th>\n",
       "      <th>model</th>\n",
       "      <th>fuel_type</th>\n",
       "      <th>max_torque</th>\n",
       "      <th>max_power</th>\n",
       "      <th>engine_type</th>\n",
       "      <th>airbags</th>\n",
       "      <th>is_esc</th>\n",
       "      <th>is_adjustable_steering</th>\n",
       "      <th>is_tpms</th>\n",
       "      <th>is_parking_sensors</th>\n",
       "      <th>is_parking_camera</th>\n",
       "      <th>rear_brakes_type</th>\n",
       "      <th>displacement</th>\n",
       "      <th>cylinder</th>\n",
       "      <th>transmission_type</th>\n",
       "      <th>gear_box</th>\n",
       "      <th>steering_type</th>\n",
       "      <th>turning_radius</th>\n",
       "      <th>length</th>\n",
       "      <th>width</th>\n",
       "      <th>height</th>\n",
       "      <th>gross_weight</th>\n",
       "      <th>is_front_fog_lights</th>\n",
       "      <th>is_rear_window_wiper</th>\n",
       "      <th>is_rear_window_washer</th>\n",
       "      <th>is_rear_window_defogger</th>\n",
       "      <th>is_brake_assist</th>\n",
       "      <th>is_power_door_locks</th>\n",
       "      <th>is_central_locking</th>\n",
       "      <th>is_power_steering</th>\n",
       "      <th>is_driver_seat_height_adjustable</th>\n",
       "      <th>is_day_night_rear_view_mirror</th>\n",
       "      <th>is_ecw</th>\n",
       "      <th>is_speed_alert</th>\n",
       "      <th>ncap_rating</th>\n",
       "    </tr>\n",
       "  </thead>\n",
       "  <tbody>\n",
       "    <tr>\n",
       "      <th>0</th>\n",
       "      <td>ID58593</td>\n",
       "      <td>0.341732</td>\n",
       "      <td>0.00</td>\n",
       "      <td>0.586538</td>\n",
       "      <td>C3</td>\n",
       "      <td>4076</td>\n",
       "      <td>1</td>\n",
       "      <td>A</td>\n",
       "      <td>M1</td>\n",
       "      <td>CNG</td>\n",
       "      <td>60Nm@3500rpm</td>\n",
       "      <td>40.36bhp@6000rpm</td>\n",
       "      <td>F8D Petrol Engine</td>\n",
       "      <td>2</td>\n",
       "      <td>No</td>\n",
       "      <td>No</td>\n",
       "      <td>No</td>\n",
       "      <td>Yes</td>\n",
       "      <td>No</td>\n",
       "      <td>Drum</td>\n",
       "      <td>796</td>\n",
       "      <td>3</td>\n",
       "      <td>Manual</td>\n",
       "      <td>5</td>\n",
       "      <td>Power</td>\n",
       "      <td>4.6</td>\n",
       "      <td>3445</td>\n",
       "      <td>1515</td>\n",
       "      <td>1475</td>\n",
       "      <td>1185</td>\n",
       "      <td>No</td>\n",
       "      <td>No</td>\n",
       "      <td>No</td>\n",
       "      <td>No</td>\n",
       "      <td>No</td>\n",
       "      <td>No</td>\n",
       "      <td>No</td>\n",
       "      <td>Yes</td>\n",
       "      <td>No</td>\n",
       "      <td>No</td>\n",
       "      <td>No</td>\n",
       "      <td>Yes</td>\n",
       "      <td>0</td>\n",
       "    </tr>\n",
       "    <tr>\n",
       "      <th>1</th>\n",
       "      <td>ID58594</td>\n",
       "      <td>0.307241</td>\n",
       "      <td>0.13</td>\n",
       "      <td>0.442308</td>\n",
       "      <td>C8</td>\n",
       "      <td>8794</td>\n",
       "      <td>1</td>\n",
       "      <td>B2</td>\n",
       "      <td>M6</td>\n",
       "      <td>Petrol</td>\n",
       "      <td>113Nm@4400rpm</td>\n",
       "      <td>88.50bhp@6000rpm</td>\n",
       "      <td>K Series Dual jet</td>\n",
       "      <td>2</td>\n",
       "      <td>No</td>\n",
       "      <td>Yes</td>\n",
       "      <td>No</td>\n",
       "      <td>Yes</td>\n",
       "      <td>No</td>\n",
       "      <td>Drum</td>\n",
       "      <td>1197</td>\n",
       "      <td>4</td>\n",
       "      <td>Manual</td>\n",
       "      <td>5</td>\n",
       "      <td>Electric</td>\n",
       "      <td>4.8</td>\n",
       "      <td>3845</td>\n",
       "      <td>1735</td>\n",
       "      <td>1530</td>\n",
       "      <td>1335</td>\n",
       "      <td>Yes</td>\n",
       "      <td>No</td>\n",
       "      <td>No</td>\n",
       "      <td>No</td>\n",
       "      <td>Yes</td>\n",
       "      <td>Yes</td>\n",
       "      <td>Yes</td>\n",
       "      <td>Yes</td>\n",
       "      <td>Yes</td>\n",
       "      <td>Yes</td>\n",
       "      <td>Yes</td>\n",
       "      <td>Yes</td>\n",
       "      <td>2</td>\n",
       "    </tr>\n",
       "  </tbody>\n",
       "</table>\n",
       "</div>"
      ],
      "text/plain": [
       "  policy_id  policy_tenure  age_of_car  age_of_policyholder area_cluster  \\\n",
       "0   ID58593       0.341732        0.00             0.586538           C3   \n",
       "1   ID58594       0.307241        0.13             0.442308           C8   \n",
       "\n",
       "   population_density  make segment model fuel_type     max_torque  \\\n",
       "0                4076     1       A    M1       CNG   60Nm@3500rpm   \n",
       "1                8794     1      B2    M6    Petrol  113Nm@4400rpm   \n",
       "\n",
       "          max_power        engine_type  airbags is_esc is_adjustable_steering  \\\n",
       "0  40.36bhp@6000rpm  F8D Petrol Engine        2     No                     No   \n",
       "1  88.50bhp@6000rpm  K Series Dual jet        2     No                    Yes   \n",
       "\n",
       "  is_tpms is_parking_sensors is_parking_camera rear_brakes_type  displacement  \\\n",
       "0      No                Yes                No             Drum           796   \n",
       "1      No                Yes                No             Drum          1197   \n",
       "\n",
       "   cylinder transmission_type  gear_box steering_type  turning_radius  length  \\\n",
       "0         3            Manual         5         Power             4.6    3445   \n",
       "1         4            Manual         5      Electric             4.8    3845   \n",
       "\n",
       "   width  height  gross_weight is_front_fog_lights is_rear_window_wiper  \\\n",
       "0   1515    1475          1185                  No                   No   \n",
       "1   1735    1530          1335                 Yes                   No   \n",
       "\n",
       "  is_rear_window_washer is_rear_window_defogger is_brake_assist  \\\n",
       "0                    No                      No              No   \n",
       "1                    No                      No             Yes   \n",
       "\n",
       "  is_power_door_locks is_central_locking is_power_steering  \\\n",
       "0                  No                 No               Yes   \n",
       "1                 Yes                Yes               Yes   \n",
       "\n",
       "  is_driver_seat_height_adjustable is_day_night_rear_view_mirror is_ecw  \\\n",
       "0                               No                            No     No   \n",
       "1                              Yes                           Yes    Yes   \n",
       "\n",
       "  is_speed_alert  ncap_rating  \n",
       "0            Yes            0  \n",
       "1            Yes            2  "
      ]
     },
     "execution_count": 32,
     "metadata": {},
     "output_type": "execute_result"
    }
   ],
   "source": [
    "df_test = pd.read_csv('test_zo1G9sv.csv')\n",
    "df_test.head(2)"
   ]
  },
  {
   "cell_type": "code",
   "execution_count": 33,
   "id": "cf3d8c12",
   "metadata": {
    "ExecuteTime": {
     "end_time": "2022-11-14T06:10:42.659714Z",
     "start_time": "2022-11-14T06:10:42.573918Z"
    }
   },
   "outputs": [],
   "source": [
    "df_train_take = df_train.copy()\n",
    "df_test_take = df_test.copy()"
   ]
  },
  {
   "cell_type": "code",
   "execution_count": 34,
   "id": "954f183b",
   "metadata": {
    "ExecuteTime": {
     "end_time": "2022-11-14T06:10:45.296169Z",
     "start_time": "2022-11-14T06:10:45.240878Z"
    }
   },
   "outputs": [],
   "source": [
    "df_train_take.drop(['policy_id'], axis=1, inplace=True)\n",
    "df_test_take.drop(['policy_id'], axis=1, inplace=True)"
   ]
  },
  {
   "cell_type": "code",
   "execution_count": 36,
   "id": "f01f6a23",
   "metadata": {
    "ExecuteTime": {
     "end_time": "2022-11-14T06:11:16.338453Z",
     "start_time": "2022-11-14T06:11:16.329139Z"
    }
   },
   "outputs": [
    {
     "data": {
      "text/plain": [
       "0    54844\n",
       "1     3748\n",
       "Name: is_claim, dtype: int64"
      ]
     },
     "execution_count": 36,
     "metadata": {},
     "output_type": "execute_result"
    }
   ],
   "source": [
    "df_train['is_claim'].value_counts()"
   ]
  },
  {
   "cell_type": "code",
   "execution_count": 44,
   "id": "1965aad7",
   "metadata": {
    "ExecuteTime": {
     "end_time": "2022-11-14T06:38:26.326660Z",
     "start_time": "2022-11-14T06:38:26.125692Z"
    }
   },
   "outputs": [
    {
     "data": {
      "image/png": "[encoded data removed]",
      "text/plain": [
       "<Figure size 432x288 with 1 Axes>"
      ]
     },
     "metadata": {
      "needs_background": "light"
     },
     "output_type": "display_data"
    }
   ],
   "source": [
    "df_train['is_claim'].value_counts().plot(kind='barh')\n",
    "plt.xlabel('Counts')\n",
    "plt.ylabel('is_claim')\n",
    "plt.title('Distribution of is_claim')\n",
    "plt.show()"
   ]
  },
  {
   "cell_type": "code",
   "execution_count": 18,
   "id": "df456646",
   "metadata": {
    "ExecuteTime": {
     "end_time": "2022-11-14T05:58:12.714793Z",
     "start_time": "2022-11-14T05:58:12.657172Z"
    }
   },
   "outputs": [],
   "source": [
    "X = df_train_take.drop(['is_claim'], axis=1)\n",
    "y = df_train_take['is_claim']\n",
    "X_test = df_test_take.copy()"
   ]
  },
  {
   "cell_type": "markdown",
   "id": "3eb2638e",
   "metadata": {},
   "source": [
    "# Catboost model"
   ]
  },
  {
   "cell_type": "markdown",
   "id": "02cf89d7",
   "metadata": {},
   "source": [
    "## Give category as index to catboost classifier"
   ]
  },
  {
   "cell_type": "code",
   "execution_count": 19,
   "id": "e7ebee1d",
   "metadata": {
    "ExecuteTime": {
     "end_time": "2022-11-14T05:58:12.728749Z",
     "start_time": "2022-11-14T05:58:12.719287Z"
    }
   },
   "outputs": [],
   "source": [
    "categorical_features_indices = np.where((df_train_take.dtypes == object).values.astype(int) == 1)[0]"
   ]
  },
  {
   "cell_type": "code",
   "execution_count": 20,
   "id": "d0daf531",
   "metadata": {
    "ExecuteTime": {
     "end_time": "2022-11-14T05:58:12.820577Z",
     "start_time": "2022-11-14T05:58:12.734739Z"
    }
   },
   "outputs": [],
   "source": [
    "X_train, X_val, y_train, y_val = train_test_split(X, y, test_size=0.3, random_state=42)"
   ]
  },
  {
   "cell_type": "code",
   "execution_count": 21,
   "id": "ca452499",
   "metadata": {
    "ExecuteTime": {
     "end_time": "2022-11-14T05:58:12.832954Z",
     "start_time": "2022-11-14T05:58:12.826796Z"
    }
   },
   "outputs": [],
   "source": [
    "# from xgboost import XGBClassifier\n",
    "# xgbc = XGBClassifier(random_state=0,scale_pos_weight=10)\n",
    "# xgbc.fit(X_train, y_train)\n",
    "# y_pred = xgbc.predict(X_test)"
   ]
  },
  {
   "cell_type": "code",
   "execution_count": 22,
   "id": "67d934f0",
   "metadata": {
    "ExecuteTime": {
     "end_time": "2022-11-14T05:59:31.159559Z",
     "start_time": "2022-11-14T05:58:12.840564Z"
    }
   },
   "outputs": [
    {
     "data": {
      "text/plain": [
       "<catboost.core.CatBoostClassifier at 0x7fabeafc2220>"
      ]
     },
     "execution_count": 22,
     "metadata": {},
     "output_type": "execute_result"
    }
   ],
   "source": [
    "catboost_base = CatBoostClassifier(verbose=False,random_state=0, scale_pos_weight=10)\n",
    "catboost_base.fit(X_train, y_train,cat_features=categorical_features_indices,eval_set=(X_val, y_val))"
   ]
  },
  {
   "cell_type": "code",
   "execution_count": 23,
   "id": "acb5368f",
   "metadata": {
    "ExecuteTime": {
     "end_time": "2022-11-14T05:59:32.027526Z",
     "start_time": "2022-11-14T05:59:31.163073Z"
    }
   },
   "outputs": [],
   "source": [
    "y_pred = catboost_base.predict(X_test)"
   ]
  },
  {
   "cell_type": "code",
   "execution_count": 24,
   "id": "4cfd919a",
   "metadata": {
    "ExecuteTime": {
     "end_time": "2022-11-14T05:59:32.068352Z",
     "start_time": "2022-11-14T05:59:32.032571Z"
    }
   },
   "outputs": [
    {
     "data": {
      "text/html": [
       "<div>\n",
       "<style scoped>\n",
       "    .dataframe tbody tr th:only-of-type {\n",
       "        vertical-align: middle;\n",
       "    }\n",
       "\n",
       "    .dataframe tbody tr th {\n",
       "        vertical-align: top;\n",
       "    }\n",
       "\n",
       "    .dataframe thead th {\n",
       "        text-align: right;\n",
       "    }\n",
       "</style>\n",
       "<table border=\"1\" class=\"dataframe\">\n",
       "  <thead>\n",
       "    <tr style=\"text-align: right;\">\n",
       "      <th></th>\n",
       "      <th>policy_id</th>\n",
       "      <th>is_claim</th>\n",
       "    </tr>\n",
       "  </thead>\n",
       "  <tbody>\n",
       "    <tr>\n",
       "      <th>0</th>\n",
       "      <td>ID58593</td>\n",
       "      <td>1</td>\n",
       "    </tr>\n",
       "    <tr>\n",
       "      <th>1</th>\n",
       "      <td>ID58594</td>\n",
       "      <td>1</td>\n",
       "    </tr>\n",
       "  </tbody>\n",
       "</table>\n",
       "</div>"
      ],
      "text/plain": [
       "  policy_id  is_claim\n",
       "0   ID58593         1\n",
       "1   ID58594         1"
      ]
     },
     "execution_count": 24,
     "metadata": {},
     "output_type": "execute_result"
    }
   ],
   "source": [
    "submission_df = pd.read_csv('sample_submission_KvRh9Sx.csv')\n",
    "submission_df.head(2)"
   ]
  },
  {
   "cell_type": "code",
   "execution_count": 25,
   "id": "2812ebfe",
   "metadata": {
    "ExecuteTime": {
     "end_time": "2022-11-14T05:59:32.082686Z",
     "start_time": "2022-11-14T05:59:32.074416Z"
    }
   },
   "outputs": [],
   "source": [
    "submission_df['policy_id'] = df_test['policy_id']"
   ]
  },
  {
   "cell_type": "code",
   "execution_count": 26,
   "id": "d07ae64d",
   "metadata": {
    "ExecuteTime": {
     "end_time": "2022-11-14T05:59:32.104313Z",
     "start_time": "2022-11-14T05:59:32.089890Z"
    }
   },
   "outputs": [],
   "source": [
    "submission_df['is_claim'] = y_pred"
   ]
  },
  {
   "cell_type": "code",
   "execution_count": 27,
   "id": "91153820",
   "metadata": {
    "ExecuteTime": {
     "end_time": "2022-11-14T05:59:32.132682Z",
     "start_time": "2022-11-14T05:59:32.114253Z"
    }
   },
   "outputs": [
    {
     "data": {
      "text/plain": [
       "0    31793\n",
       "1     7270\n",
       "Name: is_claim, dtype: int64"
      ]
     },
     "execution_count": 27,
     "metadata": {},
     "output_type": "execute_result"
    }
   ],
   "source": [
    "submission_df['is_claim'].value_counts()"
   ]
  },
  {
   "cell_type": "code",
   "execution_count": 28,
   "id": "d1b5d013",
   "metadata": {
    "ExecuteTime": {
     "end_time": "2022-11-14T05:59:32.231859Z",
     "start_time": "2022-11-14T05:59:32.140579Z"
    }
   },
   "outputs": [],
   "source": [
    "submission_df.to_csv('submission_catboost_best.csv', index=False)"
   ]
  },
  {
   "cell_type": "code",
   "execution_count": null,
   "id": "67d55ce9",
   "metadata": {},
   "outputs": [],
   "source": []
  },
  {
   "cell_type": "code",
   "execution_count": null,
   "id": "e0afc17d",
   "metadata": {},
   "outputs": [],
   "source": []
  },
  {
   "cell_type": "markdown",
   "id": "d97a2871",
   "metadata": {},
   "source": [
    "### Feature Engineering that should work"
   ]
  },
  {
   "cell_type": "code",
   "execution_count": 7,
   "id": "19979494",
   "metadata": {
    "ExecuteTime": {
     "end_time": "2022-11-14T05:58:12.333362Z",
     "start_time": "2022-11-14T05:58:12.327223Z"
    }
   },
   "outputs": [],
   "source": [
    "# bool_columns = ['is_esc', 'is_adjustable_steering', 'is_tpms', 'is_parking_sensors', 'is_parking_camera',\n",
    "#                'is_front_fog_lights', 'is_rear_window_wiper', 'is_rear_window_washer', 'is_rear_window_defogger',\n",
    "#                'is_brake_assist', 'is_power_door_locks','is_central_locking','is_power_steering',\n",
    "#                 'is_driver_seat_height_adjustable','is_day_night_rear_view_mirror','is_ecw', 'is_speed_alert']"
   ]
  },
  {
   "cell_type": "code",
   "execution_count": 8,
   "id": "b977af71",
   "metadata": {
    "ExecuteTime": {
     "end_time": "2022-11-14T05:58:12.347156Z",
     "start_time": "2022-11-14T05:58:12.337118Z"
    }
   },
   "outputs": [],
   "source": [
    "# replace_bool = {'Yes' : 1,  'No': 0}\n",
    "# df_train_take[bool_columns] = df_train_take[bool_columns].replace(replace_bool)\n",
    "# df_test_take[bool_columns] = df_test_take[bool_columns].replace(replace_bool)"
   ]
  },
  {
   "cell_type": "code",
   "execution_count": 9,
   "id": "0f5fa3cb",
   "metadata": {
    "ExecuteTime": {
     "end_time": "2022-11-14T05:58:12.371267Z",
     "start_time": "2022-11-14T05:58:12.362127Z"
    }
   },
   "outputs": [],
   "source": [
    "# ordinal_col = ['max_torque', 'max_power', 'transmission_type', 'steering_type']\n",
    "# dummy_columns = ['area_cluster', 'segment', 'model', 'fuel_type', 'rear_brakes_type', 'engine_type']"
   ]
  },
  {
   "cell_type": "code",
   "execution_count": 10,
   "id": "9add8ec9",
   "metadata": {
    "ExecuteTime": {
     "end_time": "2022-11-14T05:58:12.396417Z",
     "start_time": "2022-11-14T05:58:12.385555Z"
    }
   },
   "outputs": [],
   "source": [
    "# df_train_take = pd.concat([df_train_take,pd.get_dummies(df_train_take[dummy_columns])],axis=1)\n",
    "# df_train_take.drop(dummy_columns, axis=1, inplace=True)"
   ]
  },
  {
   "cell_type": "code",
   "execution_count": 11,
   "id": "ec18c631",
   "metadata": {
    "ExecuteTime": {
     "end_time": "2022-11-14T05:58:12.416361Z",
     "start_time": "2022-11-14T05:58:12.410633Z"
    }
   },
   "outputs": [],
   "source": [
    "# df_test_take = pd.concat([df_test_take,pd.get_dummies(df_test_take[dummy_columns])],axis=1)\n",
    "# df_test_take.drop(dummy_columns, axis=1, inplace=True)"
   ]
  },
  {
   "cell_type": "code",
   "execution_count": 12,
   "id": "21168204",
   "metadata": {
    "ExecuteTime": {
     "end_time": "2022-11-14T05:58:12.444546Z",
     "start_time": "2022-11-14T05:58:12.432935Z"
    }
   },
   "outputs": [],
   "source": [
    "# ordinal_col = ['max_torque', 'max_power', 'transmission_type', 'steering_type']\n",
    "\n",
    "# df_train_take['transmission_type'] = df_train_take['transmission_type'].replace({'Manual' : 1, 'Automatic' : 2})\n",
    "# df_train_take['steering_type'] = df_train_take['steering_type'].replace({'Manual' : 1, 'Power' : 2, 'Electric': 3})\n",
    "\n",
    "# df_train_take[['max_torque_Nm', 'max_torque_rpm']] = df_train_take[\"max_torque\"].apply(lambda x: pd.Series(str(x).split(\"@\")))\n",
    "# df_train_take.drop([\"max_torque\"], axis=1, inplace= True)\n",
    "# df_train_take['max_torque_rpm'] = df_train_take['max_torque_rpm'].str[:-3].astype(int)\n",
    "# df_train_take['max_torque_Nm'] = df_train_take['max_torque_Nm'].str[:-2].astype(float)\n",
    "\n",
    "# df_train_take[['max_power_bhp', 'max_power_rpm']] = df_train_take[\"max_power\"].apply(lambda x: pd.Series(str(x).split(\"@\")))\n",
    "# df_train_take.drop([\"max_power\"], axis=1, inplace= True)\n",
    "# df_train_take['max_power_rpm'] = df_train_take['max_power_rpm'].str[:-3].astype(int)\n",
    "# df_train_take['max_power_bhp'] = df_train_take['max_power_bhp'].str[:-3].astype(float)"
   ]
  },
  {
   "cell_type": "code",
   "execution_count": 13,
   "id": "097c4fff",
   "metadata": {
    "ExecuteTime": {
     "end_time": "2022-11-14T05:58:12.465973Z",
     "start_time": "2022-11-14T05:58:12.454675Z"
    }
   },
   "outputs": [],
   "source": [
    "# df_test_take['transmission_type'] = df_test_take['transmission_type'].replace({'Manual' : 1, 'Automatic' : 2})\n",
    "# df_test_take['steering_type'] = df_test_take['steering_type'].replace({'Manual' : 1, 'Power' : 2, 'Electric': 3})\n",
    "\n",
    "# df_test_take[['max_torque_Nm', 'max_torque_rpm']] = df_test_take[\"max_torque\"].apply(lambda x: pd.Series(str(x).split(\"@\")))\n",
    "# df_test_take.drop([\"max_torque\"], axis=1, inplace= True)\n",
    "# df_test_take['max_torque_rpm'] = df_test_take['max_torque_rpm'].str[:-3].astype(int)\n",
    "# df_test_take['max_torque_Nm'] = df_test_take['max_torque_Nm'].str[:-2].astype(float)\n",
    "\n",
    "# df_test_take[['max_power_bhp', 'max_power_rpm']] = df_test_take[\"max_power\"].apply(lambda x: pd.Series(str(x).split(\"@\")))\n",
    "# df_test_take.drop([\"max_power\"], axis=1, inplace= True)\n",
    "# df_test_take['max_power_rpm'] = df_test_take['max_power_rpm'].str[:-3].astype(int)\n",
    "# df_test_take['max_power_bhp'] = df_test_take['max_power_bhp'].str[:-3].astype(float)"
   ]
  },
  {
   "cell_type": "code",
   "execution_count": 14,
   "id": "e571f38b",
   "metadata": {
    "ExecuteTime": {
     "end_time": "2022-11-14T05:58:12.584606Z",
     "start_time": "2022-11-14T05:58:12.574790Z"
    }
   },
   "outputs": [],
   "source": [
    "# from catboost import CatBoostClassifier"
   ]
  },
  {
   "cell_type": "code",
   "execution_count": 15,
   "id": "6f671b6a",
   "metadata": {
    "ExecuteTime": {
     "end_time": "2022-11-14T05:58:12.598367Z",
     "start_time": "2022-11-14T05:58:12.592424Z"
    }
   },
   "outputs": [],
   "source": [
    "# X_train = df_train_take.drop(['is_claim'], axis=1)\n",
    "# y_train = df_train_take['is_claim']\n",
    "# X_test = df_test_take.copy()"
   ]
  },
  {
   "cell_type": "code",
   "execution_count": 16,
   "id": "7f4582f1",
   "metadata": {
    "ExecuteTime": {
     "end_time": "2022-11-14T05:58:12.624034Z",
     "start_time": "2022-11-14T05:58:12.615897Z"
    }
   },
   "outputs": [],
   "source": [
    "# X_train = df_train.drop(['is_claim'], axis=1)\n",
    "# y_train = df_train['is_claim']\n",
    "# X_test = df_test.copy()"
   ]
  },
  {
   "cell_type": "code",
   "execution_count": 17,
   "id": "be11ca3c",
   "metadata": {
    "ExecuteTime": {
     "end_time": "2022-11-14T05:58:12.642857Z",
     "start_time": "2022-11-14T05:58:12.632810Z"
    }
   },
   "outputs": [],
   "source": [
    "# df_train_take= pd.get_dummies(df_train_take)\n",
    "# df_test_take= pd.get_dummies(df_test_take)"
   ]
  }
 ],
 "metadata": {
  "kernelspec": {
   "display_name": "Python 3 (ipykernel)",
   "language": "python",
   "name": "python3"
  },
  "language_info": {
   "codemirror_mode": {
    "name": "ipython",
    "version": 3
   },
   "file_extension": ".py",
   "mimetype": "text/x-python",
   "name": "python",
   "nbconvert_exporter": "python",
   "pygments_lexer": "ipython3",
   "version": "3.9.13"
  }
 },
 "nbformat": 4,
 "nbformat_minor": 5
}
